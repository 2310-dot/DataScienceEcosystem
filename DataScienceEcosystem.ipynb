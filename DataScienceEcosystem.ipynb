{
 "cells": [
  {
   "cell_type": "markdown",
   "id": "92fdc29e-a0c4-413c-a403-d07570bec55d",
   "metadata": {},
   "source": [
    "# Data Science Tools and Ecosystem"
   ]
  },
  {
   "cell_type": "markdown",
   "id": "b3ae8004-941c-4441-ae59-91efa18addc4",
   "metadata": {},
   "source": [
    "En este cuaderno, se resumen las herramientas y ecosistemas de ciencia de datos.\n",
    "\n"
   ]
  },
  {
   "cell_type": "markdown",
   "id": "367a0173-32e4-43f5-9ec8-4f03733366e1",
   "metadata": {},
   "source": [
    "Algunos de los lenguajes populares que utilizan los científicos de datos son:\n",
    "\n",
    "1. Python  \n",
    "2. R  \n",
    "3. SQL  \n",
    "4. Julia  \n",
    "5. Scala\n",
    "\n",
    "\n"
   ]
  },
  {
   "cell_type": "markdown",
   "id": "c36cbe89-51f8-4e08-ae29-a1c162f916d7",
   "metadata": {},
   "source": [
    "Algunas de las bibliotecas comúnmente utilizadas por los científicos de datos incluyen:\n",
    "\n",
    "1. Pandas  \n",
    "2. NumPy  \n",
    "3. Matplotlib  \n",
    "4. Scikit-learn  \n",
    "5. TensorFlow\n"
   ]
  },
  {
   "cell_type": "markdown",
   "id": "4e5a458b-9937-47e3-9c9a-46a78e94913f",
   "metadata": {},
   "source": [
    "| Herramientas de Ciencia de Datos |\n",
    "| -------------------------------- |\n",
    "| Jupyter Notebook                 |\n",
    "| Rstudio                          |\n",
    "| Apache Zeppelin                  |"
   ]
  },
  {
   "cell_type": "markdown",
   "id": "88f705e5-5f91-4d87-ba6a-0124965f1012",
   "metadata": {},
   "source": [
    "### A continuación, se presentan algunos ejemplos de evaluación de expresiones aritméticas en Python.\n",
    "\n"
   ]
  },
  {
   "cell_type": "code",
   "execution_count": 1,
   "id": "08dff8da-feb4-4608-80ae-765484a6f9e4",
   "metadata": {},
   "outputs": [
    {
     "data": {
      "text/plain": [
       "17"
      ]
     },
     "execution_count": 1,
     "metadata": {},
     "output_type": "execute_result"
    }
   ],
   "source": [
    "# Esta es una expresión aritmética simple para multiplicar y luego sumar entero\n",
    "(3*4)+5"
   ]
  },
  {
   "cell_type": "code",
   "execution_count": 2,
   "id": "b23dd3d5-d799-4f1a-a4a7-4f892a3747f7",
   "metadata": {},
   "outputs": [
    {
     "data": {
      "text/plain": [
       "3.3333333333333335"
      ]
     },
     "execution_count": 2,
     "metadata": {},
     "output_type": "execute_result"
    }
   ],
   "source": [
    "# Esto convertirá 200 minutos a horas dividiendo por 60\n",
    "200/60"
   ]
  },
  {
   "cell_type": "markdown",
   "id": "8b1b5319-cf2b-4ad3-8eb7-016fea3c1630",
   "metadata": {},
   "source": [
    "En este cuaderno, se resumen las herramientas y ecosistemas de ciencia de datos.\n",
    "\n"
   ]
  },
  {
   "cell_type": "markdown",
   "id": "8e81da1d-a2a7-4c9d-b7ab-7e597c161fb3",
   "metadata": {},
   "source": [
    "**Objetivos:**\n",
    "\n",
    "- Listar lenguajes populares para Ciencia de Datos\n",
    "- Identificar bibliotecas comunes utilizadas en Ciencia de Datos\n",
    "- Mostrar herramientas abiertas del ecosistema de Ciencia de Datos\n",
    "- Crear tablas en Markdown\n",
    "- Insertar código y resultados dentro de celdas de Jupyter Notebook\n"
   ]
  },
  {
   "cell_type": "markdown",
   "id": "bedcc91b-57a3-49aa-8331-d1546922a235",
   "metadata": {},
   "source": [
    "## Autor\n",
    "Eliú Salvador Pérez Tantaleán"
   ]
  },
  {
   "cell_type": "code",
   "execution_count": null,
   "id": "caf40631-9095-4fad-9dfb-8074484cfb45",
   "metadata": {},
   "outputs": [],
   "source": []
  }
 ],
 "metadata": {
  "kernelspec": {
   "display_name": "Python [conda env:base] *",
   "language": "python",
   "name": "conda-base-py"
  },
  "language_info": {
   "codemirror_mode": {
    "name": "ipython",
    "version": 3
   },
   "file_extension": ".py",
   "mimetype": "text/x-python",
   "name": "python",
   "nbconvert_exporter": "python",
   "pygments_lexer": "ipython3",
   "version": "3.13.5"
  }
 },
 "nbformat": 4,
 "nbformat_minor": 5
}
